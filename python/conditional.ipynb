{
 "cells": [
  {
   "cell_type": "code",
   "execution_count": null,
   "id": "ff5a2eec",
   "metadata": {},
   "outputs": [],
   "source": []
  },
  {
   "cell_type": "code",
   "execution_count": 1,
   "id": "d5576a2e",
   "metadata": {},
   "outputs": [],
   "source": [
    "x=10\n",
    "if x<10:\n",
    "    print(\"x chota h 10 se\")"
   ]
  },
  {
   "cell_type": "code",
   "execution_count": null,
   "id": "d28667e9",
   "metadata": {},
   "outputs": [
    {
     "name": "stdout",
     "output_type": "stream",
     "text": [
      "x kivalue 20 h\n"
     ]
    }
   ],
   "source": [
    "x=20\n",
    "if (x<10): ##comndition 20<10\n",
    "    print(\"x 10 se chota h\")\n",
    "    \n",
    "elif (x==20):\n",
    "    print(\"x kivalue 20 h\")\n",
    "\n",
    "else:\n",
    "    print(\"x 10 se bada h\")\n"
   ]
  },
  {
   "cell_type": "code",
   "execution_count": 6,
   "id": "37d9c24d",
   "metadata": {},
   "outputs": [
    {
     "name": "stdout",
     "output_type": "stream",
     "text": [
      "largest num is  3\n",
      "largest num is  5\n",
      "largest num is  67\n"
     ]
    }
   ],
   "source": [
    "num=[2,3,5,67]\n",
    "largest=num[0]\n",
    "for nu in num:\n",
    "    if nu>largest:\n",
    "        largest=nu\n",
    "        print(\"largest num is \",largest)"
   ]
  },
  {
   "cell_type": "code",
   "execution_count": null,
   "id": "1e037352",
   "metadata": {},
   "outputs": [
    {
     "name": "stdout",
     "output_type": "stream",
     "text": [
      "num is even\n"
     ]
    }
   ],
   "source": [
    "num=int(input(\"enter a num: \"))\n",
    "if (num%2)==0:\n",
    "    print(\"num is even\")\n",
    "else:\n",
    "    print(\"num is odd\")"
   ]
  },
  {
   "cell_type": "code",
   "execution_count": 16,
   "id": "ad936096",
   "metadata": {},
   "outputs": [
    {
     "name": "stdout",
     "output_type": "stream",
     "text": [
      "year is leap year\n"
     ]
    }
   ],
   "source": [
    "year=int(input(\"enter a year : \"))\n",
    "if (year%4==0):\n",
    "    if (year%100==0):\n",
    "        if(year%400==0):\n",
    "            print(\"year is leap year\")\n",
    "        else:\n",
    "            print(\"not leap year\")\n",
    "    else:\n",
    "        print(\"year is leap year\")\n",
    "\n",
    "\n",
    "\n"
   ]
  },
  {
   "cell_type": "code",
   "execution_count": 24,
   "id": "88e01c88",
   "metadata": {},
   "outputs": [
    {
     "name": "stdout",
     "output_type": "stream",
     "text": [
      "grade 'D'\n"
     ]
    }
   ],
   "source": [
    "marks = int(input(\"Enter your marks: \"))\n",
    "if (marks>=90):\n",
    "    print(\"grade 'A'\")\n",
    "elif(75<marks>86):\n",
    "        print(\"grade 'B'\")\n",
    "elif(60<marks>74):\n",
    "     print(\"grade 'C'\")\n",
    "elif(60>marks):\n",
    "     print(\"grade 'D'\")\n",
    "else:\n",
    "    print(\"invalid grade\")"
   ]
  },
  {
   "cell_type": "code",
   "execution_count": 25,
   "id": "b193d785",
   "metadata": {},
   "outputs": [
    {
     "name": "stdout",
     "output_type": "stream",
     "text": [
      "year is leap year\n"
     ]
    }
   ],
   "source": [
    "year=2004\n",
    "if (year%4==0):\n",
    "    if (year%100==0):\n",
    "        if(year%400==0):\n",
    "            print(\"year is leap year\")\n",
    "        else:\n",
    "            print(\"not leap year\")\n",
    "    else:\n",
    "        print(\"year is leap year\")"
   ]
  },
  {
   "cell_type": "code",
   "execution_count": null,
   "id": "046b0fdb",
   "metadata": {},
   "outputs": [],
   "source": []
  }
 ],
 "metadata": {
  "kernelspec": {
   "display_name": "Python 3",
   "language": "python",
   "name": "python3"
  },
  "language_info": {
   "codemirror_mode": {
    "name": "ipython",
    "version": 3
   },
   "file_extension": ".py",
   "mimetype": "text/x-python",
   "name": "python",
   "nbconvert_exporter": "python",
   "pygments_lexer": "ipython3",
   "version": "3.13.2"
  }
 },
 "nbformat": 4,
 "nbformat_minor": 5
}
